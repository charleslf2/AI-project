{
 "cells": [
  {
   "cell_type": "code",
   "execution_count": 3,
   "metadata": {},
   "outputs": [],
   "source": [
    "import tensorflow as tf \n",
    "from tensorflow import keras\n",
    "from tensorflow.keras import layers, regularizers\n",
    "from tensorflow.keras.datasets import mnist,cifar10\n",
    "import matplotlib.pyplot as plt "
   ]
  },
  {
   "cell_type": "code",
   "execution_count": 7,
   "metadata": {},
   "outputs": [],
   "source": [
    "# load the data\n",
    "(x_train, y_train), (x_test, y_test)=mnist.load_data()"
   ]
  },
  {
   "cell_type": "code",
   "execution_count": 11,
   "metadata": {},
   "outputs": [
    {
     "data": {
      "text/plain": [
       "<matplotlib.colorbar.Colorbar at 0x21374069360>"
      ]
     },
     "execution_count": 11,
     "metadata": {},
     "output_type": "execute_result"
    },
    {
     "data": {
      "image/png": "[encoded data removed]",
      "text/plain": [
       "<Figure size 640x480 with 2 Axes>"
      ]
     },
     "metadata": {},
     "output_type": "display_data"
    }
   ],
   "source": [
    "plt.figure()\n",
    "plt.imshow(x_train[10])\n",
    "plt.colorbar()\n"
   ]
  },
  {
   "cell_type": "code",
   "execution_count": 16,
   "metadata": {},
   "outputs": [
    {
     "name": "stdout",
     "output_type": "stream",
     "text": [
      "(60000, 784)\n",
      "(10000, 784)\n"
     ]
    }
   ],
   "source": [
    "# reshape the data\n",
    "x_train=x_train.reshape(-1, 28*28).astype('float32')/255.0\n",
    "x_test=x_test.reshape(-1, 28*28).astype('float32')/255.0\n",
    "\n",
    "print(x_train.shape)\n",
    "print(x_test.shape)"
   ]
  },
  {
   "cell_type": "code",
   "execution_count": 11,
   "metadata": {},
   "outputs": [
    {
     "name": "stdout",
     "output_type": "stream",
     "text": [
      "Model: \"model_4\"\n",
      "_________________________________________________________________\n",
      " Layer (type)                Output Shape              Param #   \n",
      "=================================================================\n",
      " input_6 (InputLayer)        [(None, 784)]             0         \n",
      "                                                                 \n",
      " dense_15 (Dense)            (None, 521)               408985    \n",
      "                                                                 \n",
      " dense_16 (Dense)            (None, 265)               138330    \n",
      "                                                                 \n",
      " dense_17 (Dense)            (None, 10)                2660      \n",
      "                                                                 \n",
      "=================================================================\n",
      "Total params: 549,975\n",
      "Trainable params: 549,975\n",
      "Non-trainable params: 0\n",
      "_________________________________________________________________\n",
      "Epoch 1/2\n",
      "1875/1875 - 31s - loss: 2.5389 - accuracy: 0.2429 - 31s/epoch - 16ms/step\n",
      "Epoch 2/2\n",
      "1875/1875 - 33s - loss: 1.6970 - accuracy: 0.3110 - 33s/epoch - 18ms/step\n",
      "313/313 - 4s - loss: 1.7211 - accuracy: 0.2884 - 4s/epoch - 12ms/step\n"
     ]
    },
    {
     "data": {
      "text/plain": [
       "[1.721089243888855, 0.28839999437332153]"
      ]
     },
     "execution_count": 11,
     "metadata": {},
     "output_type": "execute_result"
    }
   ],
   "source": [
    "# the model with functionnal api\n",
    "\n",
    "inputs=keras.Input(shape=(28*28))\n",
    "x=layers.Dense(521, activation='relu')(inputs)\n",
    "x=layers.Dense(265, activation='relu')(x)\n",
    "outputs=layers.Dense(10, activation='softmax')(x)\n",
    "\n",
    "model= keras.Model(inputs=inputs, outputs=outputs)\n",
    "\n",
    "\n",
    "# model summary\n",
    "\n",
    "model.summary()\n",
    "\n",
    "# model compile\n",
    "\n",
    "model.compile(\n",
    "    loss=keras.losses.SparseCategoricalCrossentropy(),\n",
    "    optimizer=keras.optimizers.Adam(learning_rate=00.1),\n",
    "    metrics=['accuracy']\n",
    ")\n",
    "\n",
    "# model fit\n",
    "\n",
    "model.fit(x_train, y_train, batch_size=32, verbose=2, epochs=2)\n",
    "\n",
    "# model evaluation\n",
    "\n",
    "model.evaluate(x_test, y_test, batch_size=32, verbose=2)\n"
   ]
  },
  {
   "cell_type": "code",
   "execution_count": 17,
   "metadata": {},
   "outputs": [
    {
     "name": "stdout",
     "output_type": "stream",
     "text": [
      "Model: \"model_3\"\n",
      "_________________________________________________________________\n",
      " Layer (type)                Output Shape              Param #   \n",
      "=================================================================\n",
      " input_5 (InputLayer)        [(None, 784)]             0         \n",
      "                                                                 \n",
      " dense_16 (Dense)            (None, 641)               503185    \n",
      "                                                                 \n",
      " dense_17 (Dense)            (None, 251)               161142    \n",
      "                                                                 \n",
      " dense_18 (Dense)            (None, 100)               25200     \n",
      "                                                                 \n",
      " dense_19 (Dense)            (None, 10)                1010      \n",
      "                                                                 \n",
      "=================================================================\n",
      "Total params: 690,537\n",
      "Trainable params: 690,537\n",
      "Non-trainable params: 0\n",
      "_________________________________________________________________\n",
      "Epoch 1/5\n",
      "1875/1875 - 46s - loss: 0.2275 - accuracy: 0.9344 - 46s/epoch - 24ms/step\n",
      "Epoch 2/5\n",
      "1875/1875 - 47s - loss: 0.0865 - accuracy: 0.9740 - 47s/epoch - 25ms/step\n",
      "Epoch 3/5\n",
      "1875/1875 - 51s - loss: 0.0565 - accuracy: 0.9822 - 51s/epoch - 27ms/step\n",
      "Epoch 4/5\n",
      "1875/1875 - 51s - loss: 0.0376 - accuracy: 0.9880 - 51s/epoch - 27ms/step\n",
      "Epoch 5/5\n",
      "1875/1875 - 49s - loss: 0.0284 - accuracy: 0.9908 - 49s/epoch - 26ms/step\n",
      "313/313 - 5s - loss: 0.0815 - accuracy: 0.9762 - 5s/epoch - 16ms/step\n"
     ]
    },
    {
     "data": {
      "text/plain": [
       "[0.08150419592857361, 0.9761999845504761]"
      ]
     },
     "execution_count": 17,
     "metadata": {},
     "output_type": "execute_result"
    }
   ],
   "source": [
    "# the model with functionnal API\n",
    "\n",
    "inputs=keras.Input(shape=(28*28))\n",
    "x=layers.Dense(641, activation='relu')(inputs)\n",
    "x=layers.Dense(251, activation='relu')(x)\n",
    "x=layers.Dense(100, activation='relu')(x)\n",
    "outputs=layers.Dense(10, activation='softmax')(x)\n",
    "model=keras.Model(inputs=inputs, outputs=outputs)\n",
    "\n",
    "# model summary\n",
    "\n",
    "model.summary()\n",
    "\n",
    "# model compile\n",
    "\n",
    "model.compile(\n",
    "    loss=keras.losses.SparseCategoricalCrossentropy(),\n",
    "    optimizer=keras.optimizers.Adam(learning_rate=3e-4),\n",
    "    metrics=['accuracy']\n",
    ")\n",
    "\n",
    "# model fit\n",
    "\n",
    "model.fit(x_train, y_train, batch_size=32, epochs=5, verbose=2)\n",
    "\n",
    "# model evaluate\n",
    "\n",
    "model.evaluate(x_test, y_test, verbose=2, batch_size=32)"
   ]
  },
  {
   "cell_type": "code",
   "execution_count": 20,
   "metadata": {},
   "outputs": [
    {
     "name": "stdout",
     "output_type": "stream",
     "text": [
      "1/1 [==============================] - 0s 217ms/step\n"
     ]
    }
   ],
   "source": [
    "first_20_predict=model.predict(x_test[:21])"
   ]
  },
  {
   "cell_type": "code",
   "execution_count": 23,
   "metadata": {},
   "outputs": [],
   "source": [
    "import numpy as np "
   ]
  },
  {
   "cell_type": "code",
   "execution_count": 21,
   "metadata": {},
   "outputs": [
    {
     "data": {
      "text/plain": [
       "array([8.1932852e-09, 6.9552918e-08, 2.0587949e-07, 7.7591250e-07,\n",
       "       3.8584899e-10, 3.3513425e-10, 7.0727814e-14, 9.9999833e-01,\n",
       "       1.6633733e-09, 4.2057368e-07], dtype=float32)"
      ]
     },
     "execution_count": 21,
     "metadata": {},
     "output_type": "execute_result"
    }
   ],
   "source": [
    "first_20_predict[0]"
   ]
  },
  {
   "cell_type": "code",
   "execution_count": 32,
   "metadata": {},
   "outputs": [
    {
     "data": {
      "text/plain": [
       "0"
      ]
     },
     "execution_count": 32,
     "metadata": {},
     "output_type": "execute_result"
    }
   ],
   "source": [
    "np.argmax(first_20_predict[10])"
   ]
  },
  {
   "cell_type": "code",
   "execution_count": 33,
   "metadata": {},
   "outputs": [
    {
     "data": {
      "text/plain": [
       "0"
      ]
     },
     "execution_count": 33,
     "metadata": {},
     "output_type": "execute_result"
    }
   ],
   "source": [
    "y_test[10]"
   ]
  },
  {
   "cell_type": "markdown",
   "metadata": {},
   "source": [
    "# Convolutionnal neural  network"
   ]
  },
  {
   "cell_type": "code",
   "execution_count": 39,
   "metadata": {},
   "outputs": [],
   "source": [
    "# load the data\n",
    "(x_train_C, y_train_C),(x_test_C,y_test_C)= cifar10.load_data()"
   ]
  },
  {
   "cell_type": "code",
   "execution_count": 40,
   "metadata": {},
   "outputs": [
    {
     "data": {
      "image/png": "[encoded data removed]",
      "text/plain": [
       "<Figure size 640x480 with 2 Axes>"
      ]
     },
     "metadata": {},
     "output_type": "display_data"
    }
   ],
   "source": [
    "plt.figure()\n",
    "plt.imshow(x_train_C[2])\n",
    "plt.colorbar()\n",
    "plt.grid()\n"
   ]
  },
  {
   "cell_type": "code",
   "execution_count": 41,
   "metadata": {},
   "outputs": [
    {
     "data": {
      "text/plain": [
       "(50000, 32, 32, 3)"
      ]
     },
     "execution_count": 41,
     "metadata": {},
     "output_type": "execute_result"
    }
   ],
   "source": [
    "x_train_C.shape"
   ]
  },
  {
   "cell_type": "code",
   "execution_count": 43,
   "metadata": {},
   "outputs": [],
   "source": [
    "# preprocesing \n",
    "x_train_C=x_train_C.astype('float32')/255.0\n",
    "x_test_C=x_test_C.astype('float32')/255.0"
   ]
  },
  {
   "cell_type": "code",
   "execution_count": 4,
   "metadata": {},
   "outputs": [
    {
     "name": "stdout",
     "output_type": "stream",
     "text": [
      "Model: \"model\"\n",
      "_________________________________________________________________\n",
      " Layer (type)                Output Shape              Param #   \n",
      "=================================================================\n",
      " input_1 (InputLayer)        [(None, 32, 32, 3)]       0         \n",
      "                                                                 \n",
      " conv2d (Conv2D)             (None, 32, 32, 32)        896       \n",
      "                                                                 \n",
      " batch_normalization (BatchN  (None, 32, 32, 32)       128       \n",
      " ormalization)                                                   \n",
      "                                                                 \n",
      " tf.nn.relu (TFOpLambda)     (None, 32, 32, 32)        0         \n",
      "                                                                 \n",
      " max_pooling2d (MaxPooling2D  (None, 16, 16, 32)       0         \n",
      " )                                                               \n",
      "                                                                 \n",
      " conv2d_1 (Conv2D)           (None, 16, 16, 64)        51264     \n",
      "                                                                 \n",
      " tf.nn.relu_1 (TFOpLambda)   (None, 16, 16, 64)        0         \n",
      "                                                                 \n",
      " conv2d_2 (Conv2D)           (None, 16, 16, 128)       73856     \n",
      "                                                                 \n",
      " batch_normalization_1 (Batc  (None, 16, 16, 128)      512       \n",
      " hNormalization)                                                 \n",
      "                                                                 \n",
      " tf.nn.relu_2 (TFOpLambda)   (None, 16, 16, 128)       0         \n",
      "                                                                 \n",
      " flatten (Flatten)           (None, 32768)             0         \n",
      "                                                                 \n",
      " dense (Dense)               (None, 64)                2097216   \n",
      "                                                                 \n",
      " dropout (Dropout)           (None, 64)                0         \n",
      "                                                                 \n",
      " dense_1 (Dense)             (None, 10)                650       \n",
      "                                                                 \n",
      "=================================================================\n",
      "Total params: 2,224,522\n",
      "Trainable params: 2,224,202\n",
      "Non-trainable params: 320\n",
      "_________________________________________________________________\n"
     ]
    },
    {
     "ename": "NameError",
     "evalue": "name 'x_train_C' is not defined",
     "output_type": "error",
     "traceback": [
      "\u001b[1;31m---------------------------------------------------------------------------\u001b[0m",
      "\u001b[1;31mNameError\u001b[0m                                 Traceback (most recent call last)",
      "\u001b[1;32mc:\\Users\\Charles lf\\Desktop\\AI\\tensorflow_tuto_reply\\first.ipynb Cell 17\u001b[0m in \u001b[0;36m<cell line: 39>\u001b[1;34m()\u001b[0m\n\u001b[0;32m     <a href='vscode-notebook-cell:/c%3A/Users/Charles%20lf/Desktop/AI/tensorflow_tuto_reply/first.ipynb#X22sZmlsZQ%3D%3D?line=30'>31</a>\u001b[0m model\u001b[39m.\u001b[39mcompile(\n\u001b[0;32m     <a href='vscode-notebook-cell:/c%3A/Users/Charles%20lf/Desktop/AI/tensorflow_tuto_reply/first.ipynb#X22sZmlsZQ%3D%3D?line=31'>32</a>\u001b[0m     loss\u001b[39m=\u001b[39mkeras\u001b[39m.\u001b[39mlosses\u001b[39m.\u001b[39mSparseCategoricalCrossentropy(from_logits\u001b[39m=\u001b[39m\u001b[39mTrue\u001b[39;00m),\n\u001b[0;32m     <a href='vscode-notebook-cell:/c%3A/Users/Charles%20lf/Desktop/AI/tensorflow_tuto_reply/first.ipynb#X22sZmlsZQ%3D%3D?line=32'>33</a>\u001b[0m     optimizer\u001b[39m=\u001b[39mkeras\u001b[39m.\u001b[39moptimizers\u001b[39m.\u001b[39mAdam(learning_rate\u001b[39m=\u001b[39m\u001b[39m3e-4\u001b[39m),\n\u001b[0;32m     <a href='vscode-notebook-cell:/c%3A/Users/Charles%20lf/Desktop/AI/tensorflow_tuto_reply/first.ipynb#X22sZmlsZQ%3D%3D?line=33'>34</a>\u001b[0m     metrics\u001b[39m=\u001b[39m[\u001b[39m'\u001b[39m\u001b[39maccuracy\u001b[39m\u001b[39m'\u001b[39m]\n\u001b[0;32m     <a href='vscode-notebook-cell:/c%3A/Users/Charles%20lf/Desktop/AI/tensorflow_tuto_reply/first.ipynb#X22sZmlsZQ%3D%3D?line=34'>35</a>\u001b[0m )\n\u001b[0;32m     <a href='vscode-notebook-cell:/c%3A/Users/Charles%20lf/Desktop/AI/tensorflow_tuto_reply/first.ipynb#X22sZmlsZQ%3D%3D?line=36'>37</a>\u001b[0m \u001b[39m# model fit \u001b[39;00m\n\u001b[1;32m---> <a href='vscode-notebook-cell:/c%3A/Users/Charles%20lf/Desktop/AI/tensorflow_tuto_reply/first.ipynb#X22sZmlsZQ%3D%3D?line=38'>39</a>\u001b[0m fit_history\u001b[39m=\u001b[39mmodel\u001b[39m.\u001b[39mfit(x_train_C, y_train_C, batch_size\u001b[39m=\u001b[39m\u001b[39m64\u001b[39m, verbose\u001b[39m=\u001b[39m\u001b[39m2\u001b[39m, epochs\u001b[39m=\u001b[39m\u001b[39m2\u001b[39m, validation_data\u001b[39m=\u001b[39m(x_test_C, y_test_C))\n\u001b[0;32m     <a href='vscode-notebook-cell:/c%3A/Users/Charles%20lf/Desktop/AI/tensorflow_tuto_reply/first.ipynb#X22sZmlsZQ%3D%3D?line=40'>41</a>\u001b[0m \u001b[39m# model evaluate \u001b[39;00m\n\u001b[0;32m     <a href='vscode-notebook-cell:/c%3A/Users/Charles%20lf/Desktop/AI/tensorflow_tuto_reply/first.ipynb#X22sZmlsZQ%3D%3D?line=42'>43</a>\u001b[0m \u001b[39mdef\u001b[39;00m \u001b[39mevaluation\u001b[39m():\n",
      "\u001b[1;31mNameError\u001b[0m: name 'x_train_C' is not defined"
     ]
    }
   ],
   "source": [
    "# Convolutionnal neural network with functionnal API\n",
    "\n",
    "inputs=keras.Input(shape=(32,32,3))\n",
    "x=layers.Conv2D(32,3 , padding='same',\n",
    " kernel_regularizer=regularizers.l2(0.01) )(inputs)\n",
    "x=layers.BatchNormalization()(x)\n",
    "x=keras.activations.relu(x)\n",
    "x=layers.MaxPooling2D()(x)\n",
    "x=layers.Conv2D(64, 5, padding='same', \n",
    "kernel_regularizer=regularizers.l2(0.01))(x)\n",
    "x=keras.activations.relu(x)\n",
    "x=layers.Conv2D(128, 3, padding='same', \n",
    "kernel_regularizer=regularizers.l2(0.01))(x)\n",
    "x=layers.BatchNormalization()(x)\n",
    "x=keras.activations.relu(x)\n",
    "x=layers.Flatten()(x)\n",
    "x=layers.Dense(64, activation='relu',\n",
    " kernel_regularizer=regularizers.l2(0.01))(x)\n",
    "x=layers.Dropout(0.5)(x)\n",
    "outputs=layers.Dense(10)(x)\n",
    "\n",
    "model=keras.Model(inputs=inputs , outputs=outputs)\n",
    "\n",
    "\n",
    "# model summary\n",
    "\n",
    "model.summary()\n",
    "\n",
    "# model compile\n",
    "\n",
    "model.compile(\n",
    "    loss=keras.losses.SparseCategoricalCrossentropy(from_logits=True),\n",
    "    optimizer=keras.optimizers.Adam(learning_rate=3e-4),\n",
    "    metrics=['accuracy']\n",
    ")\n",
    "\n",
    "# model fit \n",
    "\n",
    "fit_history=model.fit(x_train_C, y_train_C, batch_size=64, verbose=2, epochs=2, validation_data=(x_test_C, y_test_C))\n",
    "\n",
    "# model evaluate \n",
    "\n",
    "def evaluation():\n",
    "    plt.plot(fit_history.history['accuracy'], label='accuracy')\n",
    "    plt.plot(fit_history.history['val_accuracy'], label='val_accuracy')\n",
    "    plt.xlabel('Epoch')\n",
    "    plt.ylabel('Accuracy')\n",
    "    plt.ylim([0.5,1])\n",
    "    plt.legend(loc='lower right')\n",
    "\n",
    "    model.evaluate(x_test_C, y_test_C, batch_size=64, verbose=2)\n",
    "\n",
    "\n",
    "evaluation()\n",
    "\n"
   ]
  },
  {
   "cell_type": "code",
   "execution_count": null,
   "metadata": {},
   "outputs": [],
   "source": []
  }
 ],
 "metadata": {
  "kernelspec": {
   "display_name": "Python 3.10.6 64-bit (system)",
   "language": "python",
   "name": "python3"
  },
  "language_info": {
   "codemirror_mode": {
    "name": "ipython",
    "version": 3
   },
   "file_extension": ".py",
   "mimetype": "text/x-python",
   "name": "python",
   "nbconvert_exporter": "python",
   "pygments_lexer": "ipython3",
   "version": "3.10.6"
  },
  "orig_nbformat": 4,
  "vscode": {
   "interpreter": {
    "hash": "ebcd9c1f586b857157fbd284fb4f94b3e333b2edea4e5c38ac1f594b892f68c8"
   }
  }
 },
 "nbformat": 4,
 "nbformat_minor": 2
}
