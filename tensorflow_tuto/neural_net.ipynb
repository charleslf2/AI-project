{
 "cells": [
  {
   "cell_type": "code",
   "execution_count": 16,
   "metadata": {},
   "outputs": [],
   "source": [
    "import tensorflow as tf\n",
    "from tensorflow import keras\n",
    "from tensorflow.keras import layers\n",
    "from tensorflow.keras.datasets import mnist,cifar10"
   ]
  },
  {
   "cell_type": "code",
   "execution_count": 17,
   "metadata": {},
   "outputs": [],
   "source": [
    "(x_train, y_train), (x_test, y_test)=mnist.load_data()"
   ]
  },
  {
   "cell_type": "code",
   "execution_count": 18,
   "metadata": {},
   "outputs": [
    {
     "name": "stdout",
     "output_type": "stream",
     "text": [
      "(60000, 28, 28)\n",
      "(60000,)\n"
     ]
    }
   ],
   "source": [
    "print(x_train.shape)\n",
    "print(y_train.shape)"
   ]
  },
  {
   "cell_type": "code",
   "execution_count": 4,
   "metadata": {},
   "outputs": [],
   "source": [
    "x_train = x_train.reshape(-1, 28*28).astype(\"float32\")/ 255.0\n",
    "x_test=x_test.reshape(-1, 28*28).astype(\"float32\")/255.0"
   ]
  },
  {
   "cell_type": "code",
   "execution_count": 11,
   "metadata": {},
   "outputs": [
    {
     "name": "stderr",
     "output_type": "stream",
     "text": [
      "c:\\Users\\Charles lf\\Desktop\\appenv\\lib\\site-packages\\keras\\optimizers\\optimizer_v2\\adam.py:110: UserWarning: The `lr` argument is deprecated, use `learning_rate` instead.\n",
      "  super(Adam, self).__init__(name, **kwargs)\n"
     ]
    },
    {
     "name": "stdout",
     "output_type": "stream",
     "text": [
      "Epoch 1/5\n",
      "1875/1875 - 35s - loss: 0.1863 - accuracy: 0.9435 - 35s/epoch - 19ms/step\n",
      "Epoch 2/5\n",
      "1875/1875 - 29s - loss: 0.0800 - accuracy: 0.9753 - 29s/epoch - 16ms/step\n",
      "Epoch 3/5\n",
      "1875/1875 - 29s - loss: 0.0538 - accuracy: 0.9830 - 29s/epoch - 16ms/step\n",
      "Epoch 4/5\n",
      "1875/1875 - 30s - loss: 0.0416 - accuracy: 0.9864 - 30s/epoch - 16ms/step\n",
      "Epoch 5/5\n",
      "1875/1875 - 31s - loss: 0.0324 - accuracy: 0.9899 - 31s/epoch - 16ms/step\n",
      "313/313 - 3s - loss: 0.0770 - accuracy: 0.9805 - 3s/epoch - 11ms/step\n"
     ]
    },
    {
     "data": {
      "text/plain": [
       "[0.07698287069797516, 0.9804999828338623]"
      ]
     },
     "execution_count": 11,
     "metadata": {},
     "output_type": "execute_result"
    }
   ],
   "source": [
    "# Sequential api\n",
    "model = keras.Sequential(\n",
    "    [\n",
    "        layers.Dense(512, activation='relu'), \n",
    "        layers.Dense(256, activation='relu'),\n",
    "        layers.Dense(10), \n",
    "    ]\n",
    ")\n",
    "\n",
    "\n",
    "\n",
    "# model compile\n",
    "\n",
    "model.compile(\n",
    "    loss=keras.losses.SparseCategoricalCrossentropy(from_logits=True),\n",
    "    optimizer=keras.optimizers.Adam(lr=0.001),\n",
    "    metrics=['accuracy'],    \n",
    ")\n",
    "\n",
    "# model fit \n",
    "\n",
    "model.fit(x_train, y_train, batch_size=32, epochs=5, verbose=2)\n",
    "\n",
    "# model evaluation\n",
    "\n",
    "model.evaluate(x_test, y_test , batch_size=32, verbose=2)\n"
   ]
  },
  {
   "cell_type": "code",
   "execution_count": 13,
   "metadata": {},
   "outputs": [
    {
     "name": "stdout",
     "output_type": "stream",
     "text": [
      "Model: \"model\"\n",
      "_________________________________________________________________\n",
      " Layer (type)                Output Shape              Param #   \n",
      "=================================================================\n",
      " input_1 (InputLayer)        [(None, 784)]             0         \n",
      "                                                                 \n",
      " dense_3 (Dense)             (None, 521)               408985    \n",
      "                                                                 \n",
      " dense_4 (Dense)             (None, 256)               133632    \n",
      "                                                                 \n",
      " dense_5 (Dense)             (None, 10)                2570      \n",
      "                                                                 \n",
      "=================================================================\n",
      "Total params: 545,187\n",
      "Trainable params: 545,187\n",
      "Non-trainable params: 0\n",
      "_________________________________________________________________\n",
      "Epoch 1/5\n",
      "1875/1875 - 33s - loss: 0.1875 - accuracy: 0.9439 - 33s/epoch - 17ms/step\n",
      "Epoch 2/5\n",
      "1875/1875 - 38s - loss: 0.0800 - accuracy: 0.9752 - 38s/epoch - 20ms/step\n",
      "Epoch 3/5\n",
      "1875/1875 - 37s - loss: 0.0531 - accuracy: 0.9828 - 37s/epoch - 20ms/step\n",
      "Epoch 4/5\n",
      "1875/1875 - 36s - loss: 0.0407 - accuracy: 0.9869 - 36s/epoch - 19ms/step\n",
      "Epoch 5/5\n",
      "1875/1875 - 38s - loss: 0.0325 - accuracy: 0.9889 - 38s/epoch - 20ms/step\n",
      "313/313 [==============================] - 5s 14ms/step - loss: 0.0747 - accuracy: 0.9787\n"
     ]
    },
    {
     "data": {
      "text/plain": [
       "[0.07468841224908829, 0.9786999821662903]"
      ]
     },
     "execution_count": 13,
     "metadata": {},
     "output_type": "execute_result"
    }
   ],
   "source": [
    "# Functionnal Api\n",
    "\n",
    "inputs=keras.Input(shape=(28*28))\n",
    "x=layers.Dense(521, activation='relu')(inputs)\n",
    "x=layers.Dense(256, activation='relu')(x)\n",
    "output=layers.Dense(10, activation='softmax')(x)\n",
    "model=keras.Model(inputs=inputs, outputs=output)\n",
    "\n",
    "# model sumary\n",
    "\n",
    "model.summary()\n",
    "# model conpile\n",
    "\n",
    "model.compile(\n",
    "    loss=keras.losses.SparseCategoricalCrossentropy(),\n",
    "    optimizer=keras.optimizers.Adam(learning_rate=0.001),\n",
    "    metrics=['accuracy']\n",
    "    \n",
    ")\n",
    "\n",
    "\n",
    "# model fit\n",
    "\n",
    "model.fit(x_train, y_train, epochs=5, verbose=2, batch_size=32)\n",
    "\n",
    "# model evaluation\n",
    "\n",
    "model.evaluate(x_test, y_test, batch_size=32)\n",
    "\n",
    "\n",
    "\n",
    "\n",
    "\n",
    "\n"
   ]
  },
  {
   "cell_type": "code",
   "execution_count": 20,
   "metadata": {},
   "outputs": [],
   "source": [
    "\n",
    "(x_train_C, y_train_C), (x_test_C, y_test_C)=cifar10.load_data()"
   ]
  },
  {
   "cell_type": "code",
   "execution_count": 21,
   "metadata": {},
   "outputs": [],
   "source": [
    "x_train_C=x_train_C.astype('float32')/255.0\n",
    "x_test_C=x_test_C.astype('float32')/255.0"
   ]
  },
  {
   "cell_type": "code",
   "execution_count": 21,
   "metadata": {},
   "outputs": [
    {
     "name": "stdout",
     "output_type": "stream",
     "text": [
      "Model: \"sequential_2\"\n",
      "_________________________________________________________________\n",
      " Layer (type)                Output Shape              Param #   \n",
      "=================================================================\n",
      " conv2d_6 (Conv2D)           (None, 30, 30, 32)        896       \n",
      "                                                                 \n",
      " max_pooling2d_4 (MaxPooling  (None, 15, 15, 32)       0         \n",
      " 2D)                                                             \n",
      "                                                                 \n",
      " conv2d_7 (Conv2D)           (None, 13, 13, 64)        18496     \n",
      "                                                                 \n",
      " max_pooling2d_5 (MaxPooling  (None, 6, 6, 64)         0         \n",
      " 2D)                                                             \n",
      "                                                                 \n",
      " conv2d_8 (Conv2D)           (None, 4, 4, 128)         73856     \n",
      "                                                                 \n",
      " flatten_2 (Flatten)         (None, 2048)              0         \n",
      "                                                                 \n",
      " dense_9 (Dense)             (None, 64)                131136    \n",
      "                                                                 \n",
      " dense_10 (Dense)            (None, 10)                650       \n",
      "                                                                 \n",
      "=================================================================\n",
      "Total params: 225,034\n",
      "Trainable params: 225,034\n",
      "Non-trainable params: 0\n",
      "_________________________________________________________________\n",
      "Epoch 1/10\n",
      "782/782 - 161s - loss: 1.6349 - accuracy: 0.3996 - 161s/epoch - 206ms/step\n",
      "Epoch 2/10\n",
      "782/782 - 148s - loss: 1.3139 - accuracy: 0.5331 - 148s/epoch - 189ms/step\n",
      "Epoch 3/10\n",
      "782/782 - 159s - loss: 1.1834 - accuracy: 0.5829 - 159s/epoch - 203ms/step\n",
      "Epoch 4/10\n",
      "782/782 - 184s - loss: 1.0830 - accuracy: 0.6188 - 184s/epoch - 235ms/step\n",
      "Epoch 5/10\n",
      "782/782 - 182s - loss: 1.0094 - accuracy: 0.6480 - 182s/epoch - 233ms/step\n",
      "Epoch 6/10\n",
      "782/782 - 181s - loss: 0.9445 - accuracy: 0.6705 - 181s/epoch - 232ms/step\n",
      "Epoch 7/10\n",
      "782/782 - 170s - loss: 0.8935 - accuracy: 0.6890 - 170s/epoch - 218ms/step\n",
      "Epoch 8/10\n",
      "782/782 - 149s - loss: 0.8526 - accuracy: 0.7052 - 149s/epoch - 190ms/step\n",
      "Epoch 9/10\n",
      "782/782 - 149s - loss: 0.8088 - accuracy: 0.7200 - 149s/epoch - 191ms/step\n",
      "Epoch 10/10\n",
      "782/782 - 148s - loss: 0.7760 - accuracy: 0.7326 - 148s/epoch - 189ms/step\n",
      "157/157 - 11s - loss: 0.8547 - accuracy: 0.7082 - 11s/epoch - 72ms/step\n"
     ]
    },
    {
     "data": {
      "text/plain": [
       "[0.8547303676605225, 0.7081999778747559]"
      ]
     },
     "execution_count": 21,
     "metadata": {},
     "output_type": "execute_result"
    }
   ],
   "source": [
    "# convolutionnal neural network / sequential API\n",
    "\n",
    "# Initialise the model\n",
    "model=keras.Sequential(\n",
    "    [\n",
    "        keras.Input(shape=(32,32,3)),\n",
    "        layers.Conv2D(32,3,padding='valid', activation='relu'),\n",
    "        layers.MaxPooling2D(pool_size=(2,2)),\n",
    "        layers.Conv2D(64,3,activation='relu'),\n",
    "        layers.MaxPooling2D(),\n",
    "        layers.Conv2D(128,3,activation='relu'),\n",
    "        layers.Flatten(),\n",
    "        layers.Dense(64, activation='relu'),\n",
    "        layers.Dense(10)\n",
    "\n",
    "    ]\n",
    ")\n",
    "\n",
    "# model summary \n",
    "model.summary()\n",
    "\n",
    "# model compile \n",
    "\n",
    "model.compile(\n",
    "    loss=keras.losses.SparseCategoricalCrossentropy(from_logits=True),\n",
    "    optimizer=keras.optimizers.Adam(learning_rate=3e-4),\n",
    "    metrics=['accuracy'],\n",
    ")\n",
    "\n",
    "\n",
    "# model fit\n",
    "\n",
    "model.fit(x_train_C, y_train_C, batch_size=64, epochs=10, verbose=2)\n",
    "\n",
    "# model evaluation\n",
    "\n",
    "model.evaluate(x_test_C, y_test_C, batch_size=64, verbose=2)"
   ]
  },
  {
   "cell_type": "code",
   "execution_count": 24,
   "metadata": {},
   "outputs": [
    {
     "name": "stdout",
     "output_type": "stream",
     "text": [
      "Model: \"model_2\"\n",
      "_________________________________________________________________\n",
      " Layer (type)                Output Shape              Param #   \n",
      "=================================================================\n",
      " input_7 (InputLayer)        [(None, 32, 32, 3)]       0         \n",
      "                                                                 \n",
      " conv2d_15 (Conv2D)          (None, 30, 30, 32)        896       \n",
      "                                                                 \n",
      " batch_normalization_4 (Batc  (None, 30, 30, 32)       128       \n",
      " hNormalization)                                                 \n",
      "                                                                 \n",
      " tf.nn.relu_6 (TFOpLambda)   (None, 30, 30, 32)        0         \n",
      "                                                                 \n",
      " max_pooling2d_8 (MaxPooling  (None, 15, 15, 32)       0         \n",
      " 2D)                                                             \n",
      "                                                                 \n",
      " conv2d_16 (Conv2D)          (None, 15, 15, 64)        51264     \n",
      "                                                                 \n",
      " tf.nn.relu_7 (TFOpLambda)   (None, 15, 15, 64)        0         \n",
      "                                                                 \n",
      " conv2d_17 (Conv2D)          (None, 13, 13, 128)       73856     \n",
      "                                                                 \n",
      " batch_normalization_5 (Batc  (None, 13, 13, 128)      512       \n",
      " hNormalization)                                                 \n",
      "                                                                 \n",
      " tf.nn.relu_8 (TFOpLambda)   (None, 13, 13, 128)       0         \n",
      "                                                                 \n",
      " flatten_4 (Flatten)         (None, 21632)             0         \n",
      "                                                                 \n",
      " dense_14 (Dense)            (None, 64)                1384512   \n",
      "                                                                 \n",
      " dense_15 (Dense)            (None, 10)                650       \n",
      "                                                                 \n",
      "=================================================================\n",
      "Total params: 1,511,818\n",
      "Trainable params: 1,511,498\n",
      "Non-trainable params: 320\n",
      "_________________________________________________________________\n",
      "Epoch 1/5\n",
      "782/782 - 681s - loss: 1.3341 - accuracy: 0.5186 - 681s/epoch - 871ms/step\n",
      "Epoch 2/5\n",
      "782/782 - 635s - loss: 0.9234 - accuracy: 0.6763 - 635s/epoch - 812ms/step\n",
      "Epoch 3/5\n",
      "782/782 - 601s - loss: 0.7491 - accuracy: 0.7386 - 601s/epoch - 768ms/step\n",
      "Epoch 4/5\n",
      "782/782 - 600s - loss: 0.6491 - accuracy: 0.7733 - 600s/epoch - 767ms/step\n",
      "Epoch 5/5\n",
      "782/782 - 593s - loss: 0.5601 - accuracy: 0.8061 - 593s/epoch - 758ms/step\n",
      "157/157 - 37s - loss: 0.9088 - accuracy: 0.6952 - 37s/epoch - 237ms/step\n"
     ]
    },
    {
     "data": {
      "text/plain": [
       "[0.9088013768196106, 0.6952000260353088]"
      ]
     },
     "execution_count": 24,
     "metadata": {},
     "output_type": "execute_result"
    }
   ],
   "source": [
    "#convolutionnal neural network / functionnal API / advanced stuff\n",
    "\n",
    "def my_model():\n",
    "    inputs=keras.Input(shape=(32,32,3))\n",
    "    x=layers.Conv2D(32,3)(inputs)\n",
    "    x=layers.BatchNormalization()(x)\n",
    "    x=keras.activations.relu(x)\n",
    "    x=layers.MaxPooling2D()(x)\n",
    "    x=layers.Conv2D(64, 5, padding='same')(x)\n",
    "    x=keras.activations.relu(x)\n",
    "    x=layers.Conv2D(128,3)(x)\n",
    "    x=layers.BatchNormalization()(x)\n",
    "    x=keras.activations.relu(x)\n",
    "    x=layers.Flatten()(x)\n",
    "    x=layers.Dense(64, activation='relu')(x)\n",
    "    outputs=layers.Dense(10)(x)\n",
    "    model=keras.Model(inputs=inputs, outputs=outputs)\n",
    "    return model\n",
    "\n",
    "model=my_model()\n",
    "\n",
    "\n",
    "# model summary \n",
    "\n",
    "model.summary()\n",
    "\n",
    "# model compile\n",
    "model.compile(\n",
    "    loss=keras.losses.SparseCategoricalCrossentropy(from_logits=True),\n",
    "    optimizer=keras.optimizers.Adam(learning_rate=3e-4),\n",
    "    metrics=['accuracy']\n",
    ")\n",
    "\n",
    "# model fit\n",
    "\n",
    "model.fit(x_train_C, y_train_C, batch_size=64, epochs=5, verbose=2)\n",
    "\n",
    "# model evaluate \n",
    "\n",
    "model.evaluate(x_test_C, y_test_C, batch_size=64, verbose=2)"
   ]
  },
  {
   "cell_type": "markdown",
   "metadata": {},
   "source": [
    "# Model Subclassing\n"
   ]
  },
  {
   "cell_type": "code",
   "execution_count": 7,
   "metadata": {},
   "outputs": [],
   "source": [
    "class CNNBlock(layers.Layer):\n",
    "    def __init__(self, out_channels, kernel_size=3):\n",
    "        super(CNNBlock, self).__init__()\n",
    "        self.conv=layers.Conv2D(out_channels, kernel_size, padding='same')\n",
    "        self.bn=layers.BatchNormalization()\n",
    "\n",
    "    def call(self, input_tensor, training=False):\n",
    "        x=self.conv(input_tensor)\n",
    "        x=self.bn(x, training=training)\n",
    "        x=tf.nn.relu(x)\n",
    "        return x\n",
    "\n",
    "\n"
   ]
  },
  {
   "cell_type": "code",
   "execution_count": 14,
   "metadata": {},
   "outputs": [],
   "source": [
    "class ResBlock(layers.Layer):\n",
    "    def __init__(self, channels) -> None:\n",
    "        super(ResBlock, self).__init__()\n",
    "        self.cnn1=CNNBlock(channels[0])\n",
    "        self.cnn2=CNNBlock(channels[1])\n",
    "        self.cnn3=CNNBlock(channels[2])\n",
    "        self.pooling=layers.MaxPooling2D()\n",
    "        self.identity_mapping=layers.Conv2D(channels[1],3,padding='same')\n",
    "    \n",
    "    def call(self, input_tensor, training=False):\n",
    "        x=self.cnn1(input_tensor, training=training)\n",
    "        x=self.cnn2(x, training=training)\n",
    "        x=self.cnn3(x + self.identity_mapping(input_tensor), \n",
    "        training=training)\n",
    "        return self.pooling(x)\n"
   ]
  },
  {
   "cell_type": "code",
   "execution_count": 23,
   "metadata": {},
   "outputs": [
    {
     "ename": "KeyboardInterrupt",
     "evalue": "",
     "output_type": "error",
     "traceback": [
      "\u001b[1;31m---------------------------------------------------------------------------\u001b[0m",
      "\u001b[1;31mKeyboardInterrupt\u001b[0m                         Traceback (most recent call last)",
      "\u001b[1;32mc:\\Users\\Charles lf\\Desktop\\AI\\tensorflow_tuto\\neural_net.ipynb Cell 14\u001b[0m in \u001b[0;36m<cell line: 31>\u001b[1;34m()\u001b[0m\n\u001b[0;32m     <a href='vscode-notebook-cell:/c%3A/Users/Charles%20lf/Desktop/AI/tensorflow_tuto/neural_net.ipynb#X15sZmlsZQ%3D%3D?line=22'>23</a>\u001b[0m model\u001b[39m.\u001b[39mcompile(\n\u001b[0;32m     <a href='vscode-notebook-cell:/c%3A/Users/Charles%20lf/Desktop/AI/tensorflow_tuto/neural_net.ipynb#X15sZmlsZQ%3D%3D?line=23'>24</a>\u001b[0m     loss\u001b[39m=\u001b[39mkeras\u001b[39m.\u001b[39mlosses\u001b[39m.\u001b[39mSparseCategoricalCrossentropy(from_logits\u001b[39m=\u001b[39m\u001b[39mTrue\u001b[39;00m),\n\u001b[0;32m     <a href='vscode-notebook-cell:/c%3A/Users/Charles%20lf/Desktop/AI/tensorflow_tuto/neural_net.ipynb#X15sZmlsZQ%3D%3D?line=24'>25</a>\u001b[0m     optimizer\u001b[39m=\u001b[39mkeras\u001b[39m.\u001b[39moptimizers\u001b[39m.\u001b[39mAdam(),\n\u001b[0;32m     <a href='vscode-notebook-cell:/c%3A/Users/Charles%20lf/Desktop/AI/tensorflow_tuto/neural_net.ipynb#X15sZmlsZQ%3D%3D?line=25'>26</a>\u001b[0m     metrics\u001b[39m=\u001b[39m[\u001b[39m'\u001b[39m\u001b[39maccuracy\u001b[39m\u001b[39m'\u001b[39m]\n\u001b[0;32m     <a href='vscode-notebook-cell:/c%3A/Users/Charles%20lf/Desktop/AI/tensorflow_tuto/neural_net.ipynb#X15sZmlsZQ%3D%3D?line=26'>27</a>\u001b[0m )\n\u001b[0;32m     <a href='vscode-notebook-cell:/c%3A/Users/Charles%20lf/Desktop/AI/tensorflow_tuto/neural_net.ipynb#X15sZmlsZQ%3D%3D?line=28'>29</a>\u001b[0m \u001b[39m# model fit\u001b[39;00m\n\u001b[1;32m---> <a href='vscode-notebook-cell:/c%3A/Users/Charles%20lf/Desktop/AI/tensorflow_tuto/neural_net.ipynb#X15sZmlsZQ%3D%3D?line=30'>31</a>\u001b[0m model\u001b[39m.\u001b[39;49mfit(x_train_C, y_train_C, batch_size\u001b[39m=\u001b[39;49m\u001b[39m64\u001b[39;49m, epochs\u001b[39m=\u001b[39;49m\u001b[39m1\u001b[39;49m, verbose\u001b[39m=\u001b[39;49m\u001b[39m2\u001b[39;49m)\n\u001b[0;32m     <a href='vscode-notebook-cell:/c%3A/Users/Charles%20lf/Desktop/AI/tensorflow_tuto/neural_net.ipynb#X15sZmlsZQ%3D%3D?line=33'>34</a>\u001b[0m model\u001b[39m.\u001b[39msummary()\n\u001b[0;32m     <a href='vscode-notebook-cell:/c%3A/Users/Charles%20lf/Desktop/AI/tensorflow_tuto/neural_net.ipynb#X15sZmlsZQ%3D%3D?line=35'>36</a>\u001b[0m model\u001b[39m.\u001b[39mevaluate(x_test_C,y_test_C, batch_size\u001b[39m=\u001b[39m\u001b[39m64\u001b[39m, verbose\u001b[39m=\u001b[39m\u001b[39m2\u001b[39m)\n",
      "File \u001b[1;32mc:\\Users\\Charles lf\\Desktop\\appenv\\lib\\site-packages\\keras\\utils\\traceback_utils.py:64\u001b[0m, in \u001b[0;36mfilter_traceback.<locals>.error_handler\u001b[1;34m(*args, **kwargs)\u001b[0m\n\u001b[0;32m     62\u001b[0m filtered_tb \u001b[39m=\u001b[39m \u001b[39mNone\u001b[39;00m\n\u001b[0;32m     63\u001b[0m \u001b[39mtry\u001b[39;00m:\n\u001b[1;32m---> 64\u001b[0m   \u001b[39mreturn\u001b[39;00m fn(\u001b[39m*\u001b[39margs, \u001b[39m*\u001b[39m\u001b[39m*\u001b[39mkwargs)\n\u001b[0;32m     65\u001b[0m \u001b[39mexcept\u001b[39;00m \u001b[39mException\u001b[39;00m \u001b[39mas\u001b[39;00m e:  \u001b[39m# pylint: disable=broad-except\u001b[39;00m\n\u001b[0;32m     66\u001b[0m   filtered_tb \u001b[39m=\u001b[39m _process_traceback_frames(e\u001b[39m.\u001b[39m__traceback__)\n",
      "File \u001b[1;32mc:\\Users\\Charles lf\\Desktop\\appenv\\lib\\site-packages\\keras\\engine\\training.py:1409\u001b[0m, in \u001b[0;36mModel.fit\u001b[1;34m(self, x, y, batch_size, epochs, verbose, callbacks, validation_split, validation_data, shuffle, class_weight, sample_weight, initial_epoch, steps_per_epoch, validation_steps, validation_batch_size, validation_freq, max_queue_size, workers, use_multiprocessing)\u001b[0m\n\u001b[0;32m   1402\u001b[0m \u001b[39mwith\u001b[39;00m tf\u001b[39m.\u001b[39mprofiler\u001b[39m.\u001b[39mexperimental\u001b[39m.\u001b[39mTrace(\n\u001b[0;32m   1403\u001b[0m     \u001b[39m'\u001b[39m\u001b[39mtrain\u001b[39m\u001b[39m'\u001b[39m,\n\u001b[0;32m   1404\u001b[0m     epoch_num\u001b[39m=\u001b[39mepoch,\n\u001b[0;32m   1405\u001b[0m     step_num\u001b[39m=\u001b[39mstep,\n\u001b[0;32m   1406\u001b[0m     batch_size\u001b[39m=\u001b[39mbatch_size,\n\u001b[0;32m   1407\u001b[0m     _r\u001b[39m=\u001b[39m\u001b[39m1\u001b[39m):\n\u001b[0;32m   1408\u001b[0m   callbacks\u001b[39m.\u001b[39mon_train_batch_begin(step)\n\u001b[1;32m-> 1409\u001b[0m   tmp_logs \u001b[39m=\u001b[39m \u001b[39mself\u001b[39;49m\u001b[39m.\u001b[39;49mtrain_function(iterator)\n\u001b[0;32m   1410\u001b[0m   \u001b[39mif\u001b[39;00m data_handler\u001b[39m.\u001b[39mshould_sync:\n\u001b[0;32m   1411\u001b[0m     context\u001b[39m.\u001b[39masync_wait()\n",
      "File \u001b[1;32mc:\\Users\\Charles lf\\Desktop\\appenv\\lib\\site-packages\\tensorflow\\python\\util\\traceback_utils.py:150\u001b[0m, in \u001b[0;36mfilter_traceback.<locals>.error_handler\u001b[1;34m(*args, **kwargs)\u001b[0m\n\u001b[0;32m    148\u001b[0m filtered_tb \u001b[39m=\u001b[39m \u001b[39mNone\u001b[39;00m\n\u001b[0;32m    149\u001b[0m \u001b[39mtry\u001b[39;00m:\n\u001b[1;32m--> 150\u001b[0m   \u001b[39mreturn\u001b[39;00m fn(\u001b[39m*\u001b[39margs, \u001b[39m*\u001b[39m\u001b[39m*\u001b[39mkwargs)\n\u001b[0;32m    151\u001b[0m \u001b[39mexcept\u001b[39;00m \u001b[39mException\u001b[39;00m \u001b[39mas\u001b[39;00m e:\n\u001b[0;32m    152\u001b[0m   filtered_tb \u001b[39m=\u001b[39m _process_traceback_frames(e\u001b[39m.\u001b[39m__traceback__)\n",
      "File \u001b[1;32mc:\\Users\\Charles lf\\Desktop\\appenv\\lib\\site-packages\\tensorflow\\python\\eager\\def_function.py:915\u001b[0m, in \u001b[0;36mFunction.__call__\u001b[1;34m(self, *args, **kwds)\u001b[0m\n\u001b[0;32m    912\u001b[0m compiler \u001b[39m=\u001b[39m \u001b[39m\"\u001b[39m\u001b[39mxla\u001b[39m\u001b[39m\"\u001b[39m \u001b[39mif\u001b[39;00m \u001b[39mself\u001b[39m\u001b[39m.\u001b[39m_jit_compile \u001b[39melse\u001b[39;00m \u001b[39m\"\u001b[39m\u001b[39mnonXla\u001b[39m\u001b[39m\"\u001b[39m\n\u001b[0;32m    914\u001b[0m \u001b[39mwith\u001b[39;00m OptionalXlaContext(\u001b[39mself\u001b[39m\u001b[39m.\u001b[39m_jit_compile):\n\u001b[1;32m--> 915\u001b[0m   result \u001b[39m=\u001b[39m \u001b[39mself\u001b[39m\u001b[39m.\u001b[39m_call(\u001b[39m*\u001b[39margs, \u001b[39m*\u001b[39m\u001b[39m*\u001b[39mkwds)\n\u001b[0;32m    917\u001b[0m new_tracing_count \u001b[39m=\u001b[39m \u001b[39mself\u001b[39m\u001b[39m.\u001b[39mexperimental_get_tracing_count()\n\u001b[0;32m    918\u001b[0m without_tracing \u001b[39m=\u001b[39m (tracing_count \u001b[39m==\u001b[39m new_tracing_count)\n",
      "File \u001b[1;32mc:\\Users\\Charles lf\\Desktop\\appenv\\lib\\site-packages\\tensorflow\\python\\eager\\def_function.py:947\u001b[0m, in \u001b[0;36mFunction._call\u001b[1;34m(self, *args, **kwds)\u001b[0m\n\u001b[0;32m    944\u001b[0m   \u001b[39mself\u001b[39m\u001b[39m.\u001b[39m_lock\u001b[39m.\u001b[39mrelease()\n\u001b[0;32m    945\u001b[0m   \u001b[39m# In this case we have created variables on the first call, so we run the\u001b[39;00m\n\u001b[0;32m    946\u001b[0m   \u001b[39m# defunned version which is guaranteed to never create variables.\u001b[39;00m\n\u001b[1;32m--> 947\u001b[0m   \u001b[39mreturn\u001b[39;00m \u001b[39mself\u001b[39m\u001b[39m.\u001b[39m_stateless_fn(\u001b[39m*\u001b[39margs, \u001b[39m*\u001b[39m\u001b[39m*\u001b[39mkwds)  \u001b[39m# pylint: disable=not-callable\u001b[39;00m\n\u001b[0;32m    948\u001b[0m \u001b[39melif\u001b[39;00m \u001b[39mself\u001b[39m\u001b[39m.\u001b[39m_stateful_fn \u001b[39mis\u001b[39;00m \u001b[39mnot\u001b[39;00m \u001b[39mNone\u001b[39;00m:\n\u001b[0;32m    949\u001b[0m   \u001b[39m# Release the lock early so that multiple threads can perform the call\u001b[39;00m\n\u001b[0;32m    950\u001b[0m   \u001b[39m# in parallel.\u001b[39;00m\n\u001b[0;32m    951\u001b[0m   \u001b[39mself\u001b[39m\u001b[39m.\u001b[39m_lock\u001b[39m.\u001b[39mrelease()\n",
      "File \u001b[1;32mc:\\Users\\Charles lf\\Desktop\\appenv\\lib\\site-packages\\tensorflow\\python\\eager\\function.py:2453\u001b[0m, in \u001b[0;36mFunction.__call__\u001b[1;34m(self, *args, **kwargs)\u001b[0m\n\u001b[0;32m   2450\u001b[0m \u001b[39mwith\u001b[39;00m \u001b[39mself\u001b[39m\u001b[39m.\u001b[39m_lock:\n\u001b[0;32m   2451\u001b[0m   (graph_function,\n\u001b[0;32m   2452\u001b[0m    filtered_flat_args) \u001b[39m=\u001b[39m \u001b[39mself\u001b[39m\u001b[39m.\u001b[39m_maybe_define_function(args, kwargs)\n\u001b[1;32m-> 2453\u001b[0m \u001b[39mreturn\u001b[39;00m graph_function\u001b[39m.\u001b[39;49m_call_flat(\n\u001b[0;32m   2454\u001b[0m     filtered_flat_args, captured_inputs\u001b[39m=\u001b[39;49mgraph_function\u001b[39m.\u001b[39;49mcaptured_inputs)\n",
      "File \u001b[1;32mc:\\Users\\Charles lf\\Desktop\\appenv\\lib\\site-packages\\tensorflow\\python\\eager\\function.py:1860\u001b[0m, in \u001b[0;36mConcreteFunction._call_flat\u001b[1;34m(self, args, captured_inputs, cancellation_manager)\u001b[0m\n\u001b[0;32m   1856\u001b[0m possible_gradient_type \u001b[39m=\u001b[39m gradients_util\u001b[39m.\u001b[39mPossibleTapeGradientTypes(args)\n\u001b[0;32m   1857\u001b[0m \u001b[39mif\u001b[39;00m (possible_gradient_type \u001b[39m==\u001b[39m gradients_util\u001b[39m.\u001b[39mPOSSIBLE_GRADIENT_TYPES_NONE\n\u001b[0;32m   1858\u001b[0m     \u001b[39mand\u001b[39;00m executing_eagerly):\n\u001b[0;32m   1859\u001b[0m   \u001b[39m# No tape is watching; skip to running the function.\u001b[39;00m\n\u001b[1;32m-> 1860\u001b[0m   \u001b[39mreturn\u001b[39;00m \u001b[39mself\u001b[39m\u001b[39m.\u001b[39m_build_call_outputs(\u001b[39mself\u001b[39;49m\u001b[39m.\u001b[39;49m_inference_function\u001b[39m.\u001b[39;49mcall(\n\u001b[0;32m   1861\u001b[0m       ctx, args, cancellation_manager\u001b[39m=\u001b[39;49mcancellation_manager))\n\u001b[0;32m   1862\u001b[0m forward_backward \u001b[39m=\u001b[39m \u001b[39mself\u001b[39m\u001b[39m.\u001b[39m_select_forward_and_backward_functions(\n\u001b[0;32m   1863\u001b[0m     args,\n\u001b[0;32m   1864\u001b[0m     possible_gradient_type,\n\u001b[0;32m   1865\u001b[0m     executing_eagerly)\n\u001b[0;32m   1866\u001b[0m forward_function, args_with_tangents \u001b[39m=\u001b[39m forward_backward\u001b[39m.\u001b[39mforward()\n",
      "File \u001b[1;32mc:\\Users\\Charles lf\\Desktop\\appenv\\lib\\site-packages\\tensorflow\\python\\eager\\function.py:497\u001b[0m, in \u001b[0;36m_EagerDefinedFunction.call\u001b[1;34m(self, ctx, args, cancellation_manager)\u001b[0m\n\u001b[0;32m    495\u001b[0m \u001b[39mwith\u001b[39;00m _InterpolateFunctionError(\u001b[39mself\u001b[39m):\n\u001b[0;32m    496\u001b[0m   \u001b[39mif\u001b[39;00m cancellation_manager \u001b[39mis\u001b[39;00m \u001b[39mNone\u001b[39;00m:\n\u001b[1;32m--> 497\u001b[0m     outputs \u001b[39m=\u001b[39m execute\u001b[39m.\u001b[39;49mexecute(\n\u001b[0;32m    498\u001b[0m         \u001b[39mstr\u001b[39;49m(\u001b[39mself\u001b[39;49m\u001b[39m.\u001b[39;49msignature\u001b[39m.\u001b[39;49mname),\n\u001b[0;32m    499\u001b[0m         num_outputs\u001b[39m=\u001b[39;49m\u001b[39mself\u001b[39;49m\u001b[39m.\u001b[39;49m_num_outputs,\n\u001b[0;32m    500\u001b[0m         inputs\u001b[39m=\u001b[39;49margs,\n\u001b[0;32m    501\u001b[0m         attrs\u001b[39m=\u001b[39;49mattrs,\n\u001b[0;32m    502\u001b[0m         ctx\u001b[39m=\u001b[39;49mctx)\n\u001b[0;32m    503\u001b[0m   \u001b[39melse\u001b[39;00m:\n\u001b[0;32m    504\u001b[0m     outputs \u001b[39m=\u001b[39m execute\u001b[39m.\u001b[39mexecute_with_cancellation(\n\u001b[0;32m    505\u001b[0m         \u001b[39mstr\u001b[39m(\u001b[39mself\u001b[39m\u001b[39m.\u001b[39msignature\u001b[39m.\u001b[39mname),\n\u001b[0;32m    506\u001b[0m         num_outputs\u001b[39m=\u001b[39m\u001b[39mself\u001b[39m\u001b[39m.\u001b[39m_num_outputs,\n\u001b[1;32m   (...)\u001b[0m\n\u001b[0;32m    509\u001b[0m         ctx\u001b[39m=\u001b[39mctx,\n\u001b[0;32m    510\u001b[0m         cancellation_manager\u001b[39m=\u001b[39mcancellation_manager)\n",
      "File \u001b[1;32mc:\\Users\\Charles lf\\Desktop\\appenv\\lib\\site-packages\\tensorflow\\python\\eager\\execute.py:54\u001b[0m, in \u001b[0;36mquick_execute\u001b[1;34m(op_name, num_outputs, inputs, attrs, ctx, name)\u001b[0m\n\u001b[0;32m     52\u001b[0m \u001b[39mtry\u001b[39;00m:\n\u001b[0;32m     53\u001b[0m   ctx\u001b[39m.\u001b[39mensure_initialized()\n\u001b[1;32m---> 54\u001b[0m   tensors \u001b[39m=\u001b[39m pywrap_tfe\u001b[39m.\u001b[39;49mTFE_Py_Execute(ctx\u001b[39m.\u001b[39;49m_handle, device_name, op_name,\n\u001b[0;32m     55\u001b[0m                                       inputs, attrs, num_outputs)\n\u001b[0;32m     56\u001b[0m \u001b[39mexcept\u001b[39;00m core\u001b[39m.\u001b[39m_NotOkStatusException \u001b[39mas\u001b[39;00m e:\n\u001b[0;32m     57\u001b[0m   \u001b[39mif\u001b[39;00m name \u001b[39mis\u001b[39;00m \u001b[39mnot\u001b[39;00m \u001b[39mNone\u001b[39;00m:\n",
      "\u001b[1;31mKeyboardInterrupt\u001b[0m: "
     ]
    }
   ],
   "source": [
    "# themodel\n",
    "\n",
    "class Resnet_like(keras.Model):\n",
    "    def __init__(self, num_classes=10) -> None:\n",
    "        super(Resnet_like, self).__init__()\n",
    "        self.block1=ResBlock([32,32,64])\n",
    "        self.block2=ResBlock([128,128,256])\n",
    "        self.block3=ResBlock([128,256,512])\n",
    "        self.pool=layers.GlobalAveragePooling2D()\n",
    "        self.classifier=layers.Dense(num_classes)\n",
    "\n",
    "    \n",
    "    def call(self, input_tensor, training=False):\n",
    "        x=self.block1(input_tensor, training=training)\n",
    "        x=self.block2(x,training=training)\n",
    "        x=self.block3(x, training=training)\n",
    "        x=self.pool(x)\n",
    "        return self.classifier(x)\n",
    "\n",
    "model=Resnet_like(num_classes=10)\n",
    "# model compile\n",
    "\n",
    "model.compile(\n",
    "    loss=keras.losses.SparseCategoricalCrossentropy(from_logits=True),\n",
    "    optimizer=keras.optimizers.Adam(),\n",
    "    metrics=['accuracy']\n",
    ")\n",
    "\n",
    "# model fit\n",
    "\n",
    "model.fit(x_train_C, y_train_C, batch_size=64, epochs=1, verbose=2)\n",
    "\n",
    "\n",
    "model.summary()\n",
    "\n",
    "model.evaluate(x_test_C,y_test_C, batch_size=64, verbose=2)\n",
    "\n"
   ]
  },
  {
   "cell_type": "code",
   "execution_count": null,
   "metadata": {},
   "outputs": [],
   "source": []
  }
 ],
 "metadata": {
  "kernelspec": {
   "display_name": "Python 3.10.6 64-bit (system)",
   "language": "python",
   "name": "python3"
  },
  "language_info": {
   "codemirror_mode": {
    "name": "ipython",
    "version": 3
   },
   "file_extension": ".py",
   "mimetype": "text/x-python",
   "name": "python",
   "nbconvert_exporter": "python",
   "pygments_lexer": "ipython3",
   "version": "3.10.6"
  },
  "orig_nbformat": 4,
  "vscode": {
   "interpreter": {
    "hash": "b4edfc193b5596d492714a81177d8decd5ba467b21f306ef9999d98065210567"
   }
  }
 },
 "nbformat": 4,
 "nbformat_minor": 2
}
